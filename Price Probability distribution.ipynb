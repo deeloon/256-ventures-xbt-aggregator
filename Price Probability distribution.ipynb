{
 "cells": [
  {
   "cell_type": "code",
   "execution_count": 29,
   "metadata": {},
   "outputs": [],
   "source": [
    "%matplotlib inline\n",
    "import numpy as np\n",
    "import pandas as pd\n",
    "import requests\n",
    "import math\n",
    "import matplotlib.pyplot as plt\n",
    "from time import sleep"
   ]
  },
  {
   "cell_type": "markdown",
   "metadata": {},
   "source": [
    "## Get data"
   ]
  },
  {
   "cell_type": "code",
   "execution_count": 2,
   "metadata": {},
   "outputs": [],
   "source": [
    "def trade_bucket(startDate='2015-01-01'):\n",
    "    start = 0\n",
    "    df = pd.DataFrame()\n",
    "    data = True\n",
    "    counter = 1\n",
    "    \n",
    "    while data:\n",
    "        api_call_url = 'https://www.bitmex.com/api/v1/trade/bucketed?binSize=1d&partial=false&symbol=XBTUSD&count=1000&start=' + str(\n",
    "                       start) +'&startTime=' + startDate\n",
    "        r = requests.get(api_call_url)\n",
    "        if r.status_code != 200:\n",
    "            r.raise_for_status()\n",
    "        data = r.json()\n",
    "        if data:\n",
    "            temp_df = pd.DataFrame(data)\n",
    "            df = df.append(temp_df)\n",
    "            start += 1000\n",
    "        if counter < 30:\n",
    "            counter += 1\n",
    "        else:\n",
    "            sleep(60)\n",
    "            counter = 1\n",
    "    df['timestamp'] = pd.to_datetime(df['timestamp'], dayfirst=True)\n",
    "    df.set_index('timestamp', inplace=True)\n",
    "    return df"
   ]
  },
  {
   "cell_type": "code",
   "execution_count": 3,
   "metadata": {},
   "outputs": [],
   "source": [
    "trade_df = trade_bucket()"
   ]
  },
  {
   "cell_type": "code",
   "execution_count": 4,
   "metadata": {},
   "outputs": [],
   "source": [
    "trade_df['percent_change'] = trade_df['open'].pct_change()\n",
    "trade_df['log_percent_change'] = 100*np.log(1+trade_df['percent_change'])\n",
    "trade_df['percent_change'] = 100*trade_df['percent_change']\n",
    "\n",
    "data = trade_df['log_percent_change'].dropna()\n",
    "data_train = data[:int(0.8*data.shape[0])]\n",
    "data_test = data[int(0.8*data.shape[0]):]"
   ]
  },
  {
   "cell_type": "markdown",
   "metadata": {},
   "source": [
    "## Statsmodel"
   ]
  },
  {
   "cell_type": "code",
   "execution_count": 23,
   "metadata": {},
   "outputs": [
    {
     "name": "stderr",
     "output_type": "stream",
     "text": [
      "c:\\users\\laide\\miniconda3\\envs\\forecasting\\lib\\site-packages\\statsmodels\\tsa\\base\\tsa_model.py:162: ValueWarning: No frequency information was provided, so inferred frequency D will be used.\n",
      "  % freq, ValueWarning)\n",
      "c:\\users\\laide\\miniconda3\\envs\\forecasting\\lib\\site-packages\\statsmodels\\tsa\\base\\tsa_model.py:162: ValueWarning: No frequency information was provided, so inferred frequency D will be used.\n",
      "  % freq, ValueWarning)\n"
     ]
    },
    {
     "data": {
      "text/html": [
       "<table class=\"simpletable\">\n",
       "<caption>SARIMAX Results</caption>\n",
       "<tr>\n",
       "  <th>Dep. Variable:</th>   <td>log_percent_change</td> <th>  No. Observations:  </th>   <td>1600</td>   \n",
       "</tr>\n",
       "<tr>\n",
       "  <th>Model:</th>            <td>SARIMAX(30, 0, 0)</td> <th>  Log Likelihood     </th> <td>-4488.498</td>\n",
       "</tr>\n",
       "<tr>\n",
       "  <th>Date:</th>             <td>Wed, 12 Feb 2020</td>  <th>  AIC                </th> <td>9038.996</td> \n",
       "</tr>\n",
       "<tr>\n",
       "  <th>Time:</th>                 <td>14:37:31</td>      <th>  BIC                </th> <td>9205.706</td> \n",
       "</tr>\n",
       "<tr>\n",
       "  <th>Sample:</th>              <td>09-27-2015</td>     <th>  HQIC               </th> <td>9100.901</td> \n",
       "</tr>\n",
       "<tr>\n",
       "  <th></th>                    <td>- 02-12-2020</td>    <th>                     </th>     <td> </td>    \n",
       "</tr>\n",
       "<tr>\n",
       "  <th>Covariance Type:</th>         <td>opg</td>        <th>                     </th>     <td> </td>    \n",
       "</tr>\n",
       "</table>\n",
       "<table class=\"simpletable\">\n",
       "<tr>\n",
       "     <td></td>       <th>coef</th>     <th>std err</th>      <th>z</th>      <th>P>|z|</th>  <th>[0.025</th>    <th>0.975]</th>  \n",
       "</tr>\n",
       "<tr>\n",
       "  <th>ar.L1</th>  <td>   -0.0304</td> <td>    0.019</td> <td>   -1.586</td> <td> 0.113</td> <td>   -0.068</td> <td>    0.007</td>\n",
       "</tr>\n",
       "<tr>\n",
       "  <th>ar.L2</th>  <td>    0.0180</td> <td>    0.021</td> <td>    0.867</td> <td> 0.386</td> <td>   -0.023</td> <td>    0.059</td>\n",
       "</tr>\n",
       "<tr>\n",
       "  <th>ar.L3</th>  <td>    0.0295</td> <td>    0.021</td> <td>    1.410</td> <td> 0.158</td> <td>   -0.012</td> <td>    0.071</td>\n",
       "</tr>\n",
       "<tr>\n",
       "  <th>ar.L4</th>  <td>   -0.0170</td> <td>    0.022</td> <td>   -0.783</td> <td> 0.434</td> <td>   -0.060</td> <td>    0.026</td>\n",
       "</tr>\n",
       "<tr>\n",
       "  <th>ar.L5</th>  <td>    0.0354</td> <td>    0.019</td> <td>    1.846</td> <td> 0.065</td> <td>   -0.002</td> <td>    0.073</td>\n",
       "</tr>\n",
       "<tr>\n",
       "  <th>ar.L6</th>  <td>    0.0250</td> <td>    0.020</td> <td>    1.236</td> <td> 0.217</td> <td>   -0.015</td> <td>    0.065</td>\n",
       "</tr>\n",
       "<tr>\n",
       "  <th>ar.L7</th>  <td>    0.0002</td> <td>    0.023</td> <td>    0.009</td> <td> 0.993</td> <td>   -0.045</td> <td>    0.045</td>\n",
       "</tr>\n",
       "<tr>\n",
       "  <th>ar.L8</th>  <td>   -0.0036</td> <td>    0.022</td> <td>   -0.160</td> <td> 0.873</td> <td>   -0.047</td> <td>    0.040</td>\n",
       "</tr>\n",
       "<tr>\n",
       "  <th>ar.L9</th>  <td>   -0.0285</td> <td>    0.023</td> <td>   -1.258</td> <td> 0.208</td> <td>   -0.073</td> <td>    0.016</td>\n",
       "</tr>\n",
       "<tr>\n",
       "  <th>ar.L10</th> <td>    0.0593</td> <td>    0.024</td> <td>    2.488</td> <td> 0.013</td> <td>    0.013</td> <td>    0.106</td>\n",
       "</tr>\n",
       "<tr>\n",
       "  <th>ar.L11</th> <td>    0.0193</td> <td>    0.024</td> <td>    0.813</td> <td> 0.416</td> <td>   -0.027</td> <td>    0.066</td>\n",
       "</tr>\n",
       "<tr>\n",
       "  <th>ar.L12</th> <td>    0.0169</td> <td>    0.023</td> <td>    0.731</td> <td> 0.465</td> <td>   -0.028</td> <td>    0.062</td>\n",
       "</tr>\n",
       "<tr>\n",
       "  <th>ar.L13</th> <td>   -0.0262</td> <td>    0.023</td> <td>   -1.147</td> <td> 0.251</td> <td>   -0.071</td> <td>    0.019</td>\n",
       "</tr>\n",
       "<tr>\n",
       "  <th>ar.L14</th> <td>    0.0059</td> <td>    0.023</td> <td>    0.260</td> <td> 0.795</td> <td>   -0.038</td> <td>    0.050</td>\n",
       "</tr>\n",
       "<tr>\n",
       "  <th>ar.L15</th> <td>   -0.0145</td> <td>    0.022</td> <td>   -0.661</td> <td> 0.508</td> <td>   -0.058</td> <td>    0.029</td>\n",
       "</tr>\n",
       "<tr>\n",
       "  <th>ar.L16</th> <td>    0.0184</td> <td>    0.021</td> <td>    0.879</td> <td> 0.380</td> <td>   -0.023</td> <td>    0.060</td>\n",
       "</tr>\n",
       "<tr>\n",
       "  <th>ar.L17</th> <td>    0.0335</td> <td>    0.024</td> <td>    1.379</td> <td> 0.168</td> <td>   -0.014</td> <td>    0.081</td>\n",
       "</tr>\n",
       "<tr>\n",
       "  <th>ar.L18</th> <td>    0.0404</td> <td>    0.026</td> <td>    1.529</td> <td> 0.126</td> <td>   -0.011</td> <td>    0.092</td>\n",
       "</tr>\n",
       "<tr>\n",
       "  <th>ar.L19</th> <td>    0.0512</td> <td>    0.023</td> <td>    2.226</td> <td> 0.026</td> <td>    0.006</td> <td>    0.096</td>\n",
       "</tr>\n",
       "<tr>\n",
       "  <th>ar.L20</th> <td>    0.0229</td> <td>    0.024</td> <td>    0.960</td> <td> 0.337</td> <td>   -0.024</td> <td>    0.070</td>\n",
       "</tr>\n",
       "<tr>\n",
       "  <th>ar.L21</th> <td>   -0.0405</td> <td>    0.023</td> <td>   -1.769</td> <td> 0.077</td> <td>   -0.085</td> <td>    0.004</td>\n",
       "</tr>\n",
       "<tr>\n",
       "  <th>ar.L22</th> <td>    0.0026</td> <td>    0.025</td> <td>    0.105</td> <td> 0.917</td> <td>   -0.047</td> <td>    0.052</td>\n",
       "</tr>\n",
       "<tr>\n",
       "  <th>ar.L23</th> <td>   -0.0176</td> <td>    0.023</td> <td>   -0.771</td> <td> 0.440</td> <td>   -0.062</td> <td>    0.027</td>\n",
       "</tr>\n",
       "<tr>\n",
       "  <th>ar.L24</th> <td>   -0.0250</td> <td>    0.022</td> <td>   -1.126</td> <td> 0.260</td> <td>   -0.068</td> <td>    0.018</td>\n",
       "</tr>\n",
       "<tr>\n",
       "  <th>ar.L25</th> <td>    0.0043</td> <td>    0.024</td> <td>    0.182</td> <td> 0.855</td> <td>   -0.042</td> <td>    0.051</td>\n",
       "</tr>\n",
       "<tr>\n",
       "  <th>ar.L26</th> <td>   -0.0094</td> <td>    0.025</td> <td>   -0.378</td> <td> 0.705</td> <td>   -0.058</td> <td>    0.039</td>\n",
       "</tr>\n",
       "<tr>\n",
       "  <th>ar.L27</th> <td>    0.0192</td> <td>    0.023</td> <td>    0.824</td> <td> 0.410</td> <td>   -0.026</td> <td>    0.065</td>\n",
       "</tr>\n",
       "<tr>\n",
       "  <th>ar.L28</th> <td>   -0.0231</td> <td>    0.024</td> <td>   -0.948</td> <td> 0.343</td> <td>   -0.071</td> <td>    0.025</td>\n",
       "</tr>\n",
       "<tr>\n",
       "  <th>ar.L29</th> <td>   -0.0517</td> <td>    0.023</td> <td>   -2.260</td> <td> 0.024</td> <td>   -0.097</td> <td>   -0.007</td>\n",
       "</tr>\n",
       "<tr>\n",
       "  <th>ar.L30</th> <td>    0.0009</td> <td>    0.024</td> <td>    0.037</td> <td> 0.971</td> <td>   -0.046</td> <td>    0.048</td>\n",
       "</tr>\n",
       "<tr>\n",
       "  <th>sigma2</th> <td>   15.9991</td> <td>    0.357</td> <td>   44.775</td> <td> 0.000</td> <td>   15.299</td> <td>   16.699</td>\n",
       "</tr>\n",
       "</table>\n",
       "<table class=\"simpletable\">\n",
       "<tr>\n",
       "  <th>Ljung-Box (Q):</th>          <td>16.50</td> <th>  Jarque-Bera (JB):  </th> <td>1176.68</td>\n",
       "</tr>\n",
       "<tr>\n",
       "  <th>Prob(Q):</th>                <td>1.00</td>  <th>  Prob(JB):          </th>  <td>0.00</td>  \n",
       "</tr>\n",
       "<tr>\n",
       "  <th>Heteroskedasticity (H):</th> <td>1.27</td>  <th>  Skew:              </th>  <td>-0.04</td> \n",
       "</tr>\n",
       "<tr>\n",
       "  <th>Prob(H) (two-sided):</th>    <td>0.01</td>  <th>  Kurtosis:          </th>  <td>7.20</td>  \n",
       "</tr>\n",
       "</table><br/><br/>Warnings:<br/>[1] Covariance matrix calculated using the outer product of gradients (complex-step)."
      ],
      "text/plain": [
       "<class 'statsmodels.iolib.summary.Summary'>\n",
       "\"\"\"\n",
       "                               SARIMAX Results                                \n",
       "==============================================================================\n",
       "Dep. Variable:     log_percent_change   No. Observations:                 1600\n",
       "Model:              SARIMAX(30, 0, 0)   Log Likelihood               -4488.498\n",
       "Date:                Wed, 12 Feb 2020   AIC                           9038.996\n",
       "Time:                        14:37:31   BIC                           9205.706\n",
       "Sample:                    09-27-2015   HQIC                          9100.901\n",
       "                         - 02-12-2020                                         \n",
       "Covariance Type:                  opg                                         \n",
       "==============================================================================\n",
       "                 coef    std err          z      P>|z|      [0.025      0.975]\n",
       "------------------------------------------------------------------------------\n",
       "ar.L1         -0.0304      0.019     -1.586      0.113      -0.068       0.007\n",
       "ar.L2          0.0180      0.021      0.867      0.386      -0.023       0.059\n",
       "ar.L3          0.0295      0.021      1.410      0.158      -0.012       0.071\n",
       "ar.L4         -0.0170      0.022     -0.783      0.434      -0.060       0.026\n",
       "ar.L5          0.0354      0.019      1.846      0.065      -0.002       0.073\n",
       "ar.L6          0.0250      0.020      1.236      0.217      -0.015       0.065\n",
       "ar.L7          0.0002      0.023      0.009      0.993      -0.045       0.045\n",
       "ar.L8         -0.0036      0.022     -0.160      0.873      -0.047       0.040\n",
       "ar.L9         -0.0285      0.023     -1.258      0.208      -0.073       0.016\n",
       "ar.L10         0.0593      0.024      2.488      0.013       0.013       0.106\n",
       "ar.L11         0.0193      0.024      0.813      0.416      -0.027       0.066\n",
       "ar.L12         0.0169      0.023      0.731      0.465      -0.028       0.062\n",
       "ar.L13        -0.0262      0.023     -1.147      0.251      -0.071       0.019\n",
       "ar.L14         0.0059      0.023      0.260      0.795      -0.038       0.050\n",
       "ar.L15        -0.0145      0.022     -0.661      0.508      -0.058       0.029\n",
       "ar.L16         0.0184      0.021      0.879      0.380      -0.023       0.060\n",
       "ar.L17         0.0335      0.024      1.379      0.168      -0.014       0.081\n",
       "ar.L18         0.0404      0.026      1.529      0.126      -0.011       0.092\n",
       "ar.L19         0.0512      0.023      2.226      0.026       0.006       0.096\n",
       "ar.L20         0.0229      0.024      0.960      0.337      -0.024       0.070\n",
       "ar.L21        -0.0405      0.023     -1.769      0.077      -0.085       0.004\n",
       "ar.L22         0.0026      0.025      0.105      0.917      -0.047       0.052\n",
       "ar.L23        -0.0176      0.023     -0.771      0.440      -0.062       0.027\n",
       "ar.L24        -0.0250      0.022     -1.126      0.260      -0.068       0.018\n",
       "ar.L25         0.0043      0.024      0.182      0.855      -0.042       0.051\n",
       "ar.L26        -0.0094      0.025     -0.378      0.705      -0.058       0.039\n",
       "ar.L27         0.0192      0.023      0.824      0.410      -0.026       0.065\n",
       "ar.L28        -0.0231      0.024     -0.948      0.343      -0.071       0.025\n",
       "ar.L29        -0.0517      0.023     -2.260      0.024      -0.097      -0.007\n",
       "ar.L30         0.0009      0.024      0.037      0.971      -0.046       0.048\n",
       "sigma2        15.9991      0.357     44.775      0.000      15.299      16.699\n",
       "===================================================================================\n",
       "Ljung-Box (Q):                       16.50   Jarque-Bera (JB):              1176.68\n",
       "Prob(Q):                              1.00   Prob(JB):                         0.00\n",
       "Heteroskedasticity (H):               1.27   Skew:                            -0.04\n",
       "Prob(H) (two-sided):                  0.01   Kurtosis:                         7.20\n",
       "===================================================================================\n",
       "\n",
       "Warnings:\n",
       "[1] Covariance matrix calculated using the outer product of gradients (complex-step).\n",
       "\"\"\""
      ]
     },
     "execution_count": 23,
     "metadata": {},
     "output_type": "execute_result"
    }
   ],
   "source": [
    "from statsmodels.tsa.statespace.sarimax import SARIMAX\n",
    "from scipy.stats import norm\n",
    "\n",
    "lookback = 30\n",
    "\n",
    "# Fit the model\n",
    "mod = SARIMAX(data, order=(30,0,0))\n",
    "res = mod.fit()\n",
    "res.summary()"
   ]
  },
  {
   "cell_type": "code",
   "execution_count": 33,
   "metadata": {},
   "outputs": [],
   "source": [
    "# Choose a confidence interval\n",
    "confidence = 0.5\n",
    "bound = norm.interval(alpha=confidence,loc=0, scale=math.sqrt(res.params[-1]))"
   ]
  },
  {
   "cell_type": "code",
   "execution_count": 42,
   "metadata": {},
   "outputs": [
    {
     "data": {
      "text/plain": [
       "<matplotlib.legend.Legend at 0x224e681bf08>"
      ]
     },
     "execution_count": 42,
     "metadata": {},
     "output_type": "execute_result"
    },
    {
     "data": {
      "image/png": "[encoded data removed]",
      "text/plain": [
       "<Figure size 432x288 with 1 Axes>"
      ]
     },
     "metadata": {
      "needs_background": "light"
     },
     "output_type": "display_data"
    }
   ],
   "source": [
    "start = 1489\n",
    "interval = 80\n",
    "\n",
    "x_ax = data.index[start:start+interval+1]\n",
    "\n",
    "y_t = res.predict(start=start, end=start+interval, dynamic=False).values\n",
    "plt.plot_date(x_ax,data.values[start:start+interval+1],ms=1,ls='-')\n",
    "plt.plot_date(x_ax,y_t,ms=1,ls='-')\n",
    "plt.plot_date(x_ax,y_t+bound[0],ms=1,ls='-')\n",
    "plt.plot_date(x_ax,y_t-bound[0],ms=1,ls='-')\n",
    "plt.legend(['Data','Prediction',str(confidence)+' Bound',str(confidence)+' Bound'])"
   ]
  },
  {
   "cell_type": "code",
   "execution_count": null,
   "metadata": {},
   "outputs": [],
   "source": []
  }
 ],
 "metadata": {
  "kernelspec": {
   "display_name": "Python 3",
   "language": "python",
   "name": "python3"
  },
  "language_info": {
   "codemirror_mode": {
    "name": "ipython",
    "version": 3
   },
   "file_extension": ".py",
   "mimetype": "text/x-python",
   "name": "python",
   "nbconvert_exporter": "python",
   "pygments_lexer": "ipython3",
   "version": "3.7.6"
  }
 },
 "nbformat": 4,
 "nbformat_minor": 4
}
