{
 "cells": [
  {
   "cell_type": "code",
   "execution_count": 1,
   "metadata": {},
   "outputs": [],
   "source": [
    "%matplotlib inline\n",
    "import matplotlib\n",
    "import numpy as np\n",
    "import pandas as pd\n",
    "import sklearn\n",
    "import requests\n",
    "import matplotlib.pyplot as plt"
   ]
  },
  {
   "cell_type": "markdown",
   "metadata": {},
   "source": [
    "# Getting Data"
   ]
  },
  {
   "cell_type": "markdown",
   "metadata": {},
   "source": [
    "## OHLC"
   ]
  },
  {
   "cell_type": "code",
   "execution_count": 2,
   "metadata": {},
   "outputs": [],
   "source": [
    "def trade_bucket(startDate='2019-05-01'):\n",
    "    start = 0\n",
    "    df = pd.DataFrame()\n",
    "    data = True\n",
    "    counter = 1\n",
    "    \n",
    "    while data:\n",
    "        api_call_url = 'https://www.bitmex.com/api/v1/trade/bucketed?binSize=1h&partial=false&symbol=XBTUSD&count=1000&start=' + str(\n",
    "                       start) +'&reverse=true&startTime=' + startDate\n",
    "        r = requests.get(api_call_url)\n",
    "        if r.status_code != 200:\n",
    "            r.raise_for_status()\n",
    "        data = r.json()\n",
    "        if data:\n",
    "            temp_df = pd.DataFrame(data)\n",
    "            df = df.append(temp_df)\n",
    "            start += 1000\n",
    "        if counter < 30:\n",
    "            counter += 1\n",
    "        else:\n",
    "            sleep(60)\n",
    "            counter = 1\n",
    "    df['timestamp'] = pd.to_datetime(df['timestamp'], dayfirst=True)\n",
    "    df.set_index('timestamp', inplace=True)\n",
    "    return df"
   ]
  },
  {
   "cell_type": "code",
   "execution_count": 3,
   "metadata": {},
   "outputs": [],
   "source": [
    "trade_df = trade_bucket()"
   ]
  },
  {
   "cell_type": "markdown",
   "metadata": {},
   "source": [
    "## Funding Rates"
   ]
  },
  {
   "cell_type": "code",
   "execution_count": 35,
   "metadata": {},
   "outputs": [],
   "source": [
    "funding_rates_df = pd.read_csv('data/funding.csv', parse_dates=True)\n",
    "funding_rates_df['timestamp'] = pd.to_datetime(funding_rates_df['timestamp'], dayfirst=False)\n",
    "funding_rates_df.index = funding_rates_df['timestamp']"
   ]
  },
  {
   "cell_type": "markdown",
   "metadata": {},
   "source": [
    "## OV"
   ]
  },
  {
   "cell_type": "code",
   "execution_count": 36,
   "metadata": {},
   "outputs": [],
   "source": [
    "OI_OV_df = pd.read_csv('data/OI_OV_XBT.csv', parse_dates=True)\n",
    "OI_OV_df['timestamp'] = pd.to_datetime(OI_OV_df['timestamp'], dayfirst=False, utc=True)\n",
    "OI_OV_df.index = OI_OV_df['timestamp']"
   ]
  },
  {
   "cell_type": "markdown",
   "metadata": {},
   "source": [
    "## X, y"
   ]
  },
  {
   "cell_type": "code",
   "execution_count": 37,
   "metadata": {},
   "outputs": [
    {
     "data": {
      "text/plain": [
       "timestamp\n",
       "2019-05-09 04:00:00+00:00           591356894.3\n",
       "2019-05-09 12:00:00+00:00           588270690.0\n",
       "2019-05-09 20:00:00+00:00           607830646.5\n",
       "2019-05-10 04:00:00+00:00           642309054.7\n",
       "2019-05-10 12:00:00+00:00           684630780.9\n",
       "                                       ...     \n",
       "2020-01-22 03:59:55.966000+00:00    836009945.0\n",
       "2020-01-22 11:59:58.714000+00:00    839956384.0\n",
       "2020-01-22 19:59:57.178000+00:00    831338723.0\n",
       "2020-01-23 03:59:59.056000+00:00    841315126.0\n",
       "2020-01-23 11:59:59.579000+00:00    855594138.0\n",
       "Name: openInterest, Length: 779, dtype: float64"
      ]
     },
     "execution_count": 37,
     "metadata": {},
     "output_type": "execute_result"
    }
   ],
   "source": [
    "OI_OV_df['openInterest'].loc['2019-05-09 04:00:00+00:00':'2020-01-23 12:00:00+00:00':8]"
   ]
  },
  {
   "cell_type": "code",
   "execution_count": 38,
   "metadata": {},
   "outputs": [
    {
     "data": {
      "text/plain": [
       "((778, 1), (778, 1), (778, 1))"
      ]
     },
     "execution_count": 38,
     "metadata": {},
     "output_type": "execute_result"
    }
   ],
   "source": [
    "a = funding_rates_df['fundingRate'].loc['2019-05-09 04:00:00+00:00':'2020-01-23 12:00:00+00:00'].pct_change().dropna().values.reshape(-1, 1)\n",
    "b = OI_OV_df['openInterest'].loc['2019-05-09 04:00:00+00:00':'2020-01-23 12:00:00+00:00':8].pct_change().dropna().values.reshape(-1, 1)\n",
    "c = OI_OV_df['openValue'].loc['2019-05-09 04:00:00+00:00':'2020-01-23 12:00:00+00:00':8].pct_change().dropna().values.reshape(-1, 1)\n",
    "a.shape, b.shape, c.shape"
   ]
  },
  {
   "cell_type": "code",
   "execution_count": 39,
   "metadata": {},
   "outputs": [],
   "source": [
    "X = np.hstack((a,b,c))\n",
    "y = trade_df['close'][::-1].loc['2019-05-09 04:00:00+00:00':'2020-01-23 12:00:00+00:00':8].pct_change().dropna().values.reshape(-1, 1)"
   ]
  },
  {
   "cell_type": "markdown",
   "metadata": {},
   "source": [
    "## Random Forest Regressor"
   ]
  },
  {
   "cell_type": "code",
   "execution_count": 43,
   "metadata": {},
   "outputs": [],
   "source": [
    "from sklearn.ensemble import RandomForestRegressor"
   ]
  },
  {
   "cell_type": "code",
   "execution_count": 41,
   "metadata": {},
   "outputs": [],
   "source": [
    "X.shape[0] == y.shape[0]\n",
    "X_train = X[:int(0.8*X.shape[0]),:]\n",
    "y_train = y[:int(0.8*X.shape[0]),:]\n",
    "X_test = X[int(0.8*X.shape[0]):,:]\n",
    "y_test = y[int(0.8*X.shape[0]):,:]"
   ]
  },
  {
   "cell_type": "code",
   "execution_count": 53,
   "metadata": {},
   "outputs": [
    {
     "name": "stderr",
     "output_type": "stream",
     "text": [
      "c:\\users\\laide\\miniconda3\\envs\\xbt_aggregator\\lib\\site-packages\\ipykernel_launcher.py:2: DataConversionWarning: A column-vector y was passed when a 1d array was expected. Please change the shape of y to (n_samples,), for example using ravel().\n",
      "  \n",
      "[Parallel(n_jobs=1)]: Using backend SequentialBackend with 1 concurrent workers.\n",
      "[Parallel(n_jobs=1)]: Done 100 out of 100 | elapsed:    0.1s finished\n"
     ]
    },
    {
     "data": {
      "text/plain": [
       "RandomForestRegressor(bootstrap=True, ccp_alpha=0.0, criterion='mse',\n",
       "                      max_depth=None, max_features='auto', max_leaf_nodes=None,\n",
       "                      max_samples=None, min_impurity_decrease=0.0,\n",
       "                      min_impurity_split=None, min_samples_leaf=1,\n",
       "                      min_samples_split=2, min_weight_fraction_leaf=0.0,\n",
       "                      n_estimators=100, n_jobs=None, oob_score=False,\n",
       "                      random_state=5, verbose=1, warm_start=False)"
      ]
     },
     "execution_count": 53,
     "metadata": {},
     "output_type": "execute_result"
    }
   ],
   "source": [
    "regr = RandomForestRegressor(random_state=5, verbose=1)\n",
    "regr.fit(X_train, y_train)"
   ]
  },
  {
   "cell_type": "code",
   "execution_count": 54,
   "metadata": {},
   "outputs": [
    {
     "name": "stderr",
     "output_type": "stream",
     "text": [
      "[Parallel(n_jobs=1)]: Using backend SequentialBackend with 1 concurrent workers.\n",
      "[Parallel(n_jobs=1)]: Done 100 out of 100 | elapsed:    0.0s finished\n",
      "[Parallel(n_jobs=1)]: Using backend SequentialBackend with 1 concurrent workers.\n",
      "[Parallel(n_jobs=1)]: Done 100 out of 100 | elapsed:    0.0s finished\n"
     ]
    },
    {
     "data": {
      "text/plain": [
       "0.35530996661373226"
      ]
     },
     "execution_count": 54,
     "metadata": {},
     "output_type": "execute_result"
    }
   ],
   "source": [
    "result = regr.predict(X_test)\n",
    "regr.score(X_test,y_test)"
   ]
  },
  {
   "cell_type": "code",
   "execution_count": null,
   "metadata": {},
   "outputs": [],
   "source": []
  }
 ],
 "metadata": {
  "kernelspec": {
   "display_name": "Python 3",
   "language": "python",
   "name": "python3"
  },
  "language_info": {
   "codemirror_mode": {
    "name": "ipython",
    "version": 3
   },
   "file_extension": ".py",
   "mimetype": "text/x-python",
   "name": "python",
   "nbconvert_exporter": "python",
   "pygments_lexer": "ipython3",
   "version": "3.7.6"
  }
 },
 "nbformat": 4,
 "nbformat_minor": 4
}
